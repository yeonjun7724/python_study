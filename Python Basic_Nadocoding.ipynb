{
 "cells": [
  {
   "cell_type": "code",
   "execution_count": 1,
   "id": "e5d011e2",
   "metadata": {},
   "outputs": [
    {
     "name": "stdout",
     "output_type": "stream",
     "text": [
      "토르, 커피가 준비 되었습니다. 5번 남았어요\n",
      "토르, 커피가 준비 되었습니다. 4번 남았어요\n",
      "토르, 커피가 준비 되었습니다. 3번 남았어요\n",
      "토르, 커피가 준비 되었습니다. 2번 남았어요\n",
      "토르, 커피가 준비 되었습니다. 1번 남았어요\n",
      "커피는 폐기처분 되었습니다\n"
     ]
    }
   ],
   "source": []
  },
  {
   "cell_type": "code",
   "execution_count": 2,
   "id": "fa8bf46c",
   "metadata": {},
   "outputs": [
    {
     "name": "stdout",
     "output_type": "stream",
     "text": [
      "토르, 커피가 준비 되었습니다.\n",
      "이름이 어떻게 되세요ㅇㅇ\n",
      "토르, 커피가 준비 되었습니다.\n",
      "이름이 어떻게 되세요ㅇㅇ\n",
      "토르, 커피가 준비 되었습니다.\n",
      "이름이 어떻게 되세요토르\n"
     ]
    }
   ],
   "source": [
    "customer = \"토르\"\n",
    "person = \"Unknown\"\n",
    "\n",
    "while person != customer:\n",
    "    print(\"{0}, 커피가 준비 되었습니다.\".format(customer))\n",
    "    person = input(\"이름이 어떻게 되세요\")"
   ]
  },
  {
   "cell_type": "code",
   "execution_count": 4,
   "id": "17e7cabf",
   "metadata": {},
   "outputs": [
    {
     "name": "stdout",
     "output_type": "stream",
     "text": [
      "1, 책을 읽어봐\n",
      "3, 책을 읽어봐\n",
      "4, 책을 읽어봐\n",
      "6, 책을 읽어봐\n",
      "오늘 수업은 여기까지, 7은 교무실로 따라와\n"
     ]
    }
   ],
   "source": [
    "absent = [2, 5]\n",
    "no_book = [7]\n",
    "\n",
    "for student in range(1, 11):\n",
    "    if student in absent:\n",
    "        continue\n",
    "    elif student in no_book:\n",
    "        print(\"오늘 수업은 여기까지, {0}은 교무실로 따라와\".format(student))\n",
    "        break\n",
    "    print(\"{0}, 책을 읽어봐\".format(student))"
   ]
  },
  {
   "cell_type": "code",
   "execution_count": 6,
   "id": "df234073",
   "metadata": {},
   "outputs": [
    {
     "name": "stdout",
     "output_type": "stream",
     "text": [
      "[1, 2, 3, 4, 5]\n"
     ]
    }
   ],
   "source": [
    "students = [1, 2, 3, 4, 5]\n",
    "print(students)"
   ]
  },
  {
   "cell_type": "code",
   "execution_count": 7,
   "id": "d179c739",
   "metadata": {},
   "outputs": [],
   "source": [
    "students = [i + 100 for i in students]"
   ]
  },
  {
   "cell_type": "code",
   "execution_count": 8,
   "id": "5640f2f2",
   "metadata": {},
   "outputs": [
    {
     "data": {
      "text/plain": [
       "[101, 102, 103, 104, 105]"
      ]
     },
     "execution_count": 8,
     "metadata": {},
     "output_type": "execute_result"
    }
   ],
   "source": [
    "students"
   ]
  },
  {
   "cell_type": "code",
   "execution_count": 9,
   "id": "eaf51cce",
   "metadata": {},
   "outputs": [
    {
     "name": "stdout",
     "output_type": "stream",
     "text": [
      "['Iron man', 'Thor', 'I am groot']\n"
     ]
    }
   ],
   "source": [
    "students = ['Iron man', 'Thor', 'I am groot']\n",
    "print(students)"
   ]
  },
  {
   "cell_type": "code",
   "execution_count": 10,
   "id": "6f83d2a7",
   "metadata": {},
   "outputs": [
    {
     "name": "stdout",
     "output_type": "stream",
     "text": [
      "[8, 4, 10]\n"
     ]
    }
   ],
   "source": [
    "students = [len(i) for i in students]\n",
    "print(students)"
   ]
  },
  {
   "cell_type": "code",
   "execution_count": 13,
   "id": "c9527dbb",
   "metadata": {},
   "outputs": [],
   "source": [
    "from random import *"
   ]
  },
  {
   "cell_type": "code",
   "execution_count": 229,
   "id": "92bea796",
   "metadata": {},
   "outputs": [
    {
     "name": "stdout",
     "output_type": "stream",
     "text": [
      "10\n"
     ]
    }
   ],
   "source": [
    "print(int(random()*46)+5)"
   ]
  },
  {
   "cell_type": "code",
   "execution_count": 230,
   "id": "0a55d53c",
   "metadata": {},
   "outputs": [],
   "source": [
    "number = int(random()*46)+5"
   ]
  },
  {
   "cell_type": "code",
   "execution_count": 237,
   "id": "075eddd6",
   "metadata": {},
   "outputs": [
    {
     "name": "stdout",
     "output_type": "stream",
     "text": [
      "[ ]1번째 손님(소요시간: 46분)\n",
      "[0]2번째 손님(소요시간: 5분)\n",
      "총 탑승 승객:1\n",
      "[ ]3번째 손님(소요시간: 36분)\n",
      "[ ]4번째 손님(소요시간: 25분)\n",
      "[ ]5번째 손님(소요시간: 39분)\n",
      "[ ]6번째 손님(소요시간: 43분)\n",
      "[ ]7번째 손님(소요시간: 42분)\n",
      "[ ]8번째 손님(소요시간: 26분)\n",
      "[ ]9번째 손님(소요시간: 19분)\n",
      "[ ]10번째 손님(소요시간: 34분)\n",
      "[0]11번째 손님(소요시간: 11분)\n",
      "총 탑승 승객:2\n",
      "[ ]12번째 손님(소요시간: 45분)\n",
      "[ ]13번째 손님(소요시간: 35분)\n",
      "[ ]14번째 손님(소요시간: 25분)\n",
      "[ ]15번째 손님(소요시간: 30분)\n",
      "[ ]16번째 손님(소요시간: 49분)\n",
      "[ ]17번째 손님(소요시간: 45분)\n",
      "[ ]18번째 손님(소요시간: 19분)\n",
      "[0]19번째 손님(소요시간: 6분)\n",
      "총 탑승 승객:3\n",
      "[0]20번째 손님(소요시간: 10분)\n",
      "총 탑승 승객:4\n",
      "[ ]21번째 손님(소요시간: 49분)\n",
      "[ ]22번째 손님(소요시간: 25분)\n",
      "[ ]23번째 손님(소요시간: 28분)\n",
      "[ ]24번째 손님(소요시간: 38분)\n",
      "[ ]25번째 손님(소요시간: 16분)\n",
      "[ ]26번째 손님(소요시간: 17분)\n",
      "[ ]27번째 손님(소요시간: 41분)\n",
      "[0]28번째 손님(소요시간: 8분)\n",
      "총 탑승 승객:5\n",
      "[0]29번째 손님(소요시간: 6분)\n",
      "총 탑승 승객:6\n",
      "[ ]30번째 손님(소요시간: 49분)\n",
      "[ ]31번째 손님(소요시간: 37분)\n",
      "[ ]32번째 손님(소요시간: 41분)\n",
      "[ ]33번째 손님(소요시간: 43분)\n",
      "[ ]34번째 손님(소요시간: 39분)\n",
      "[ ]35번째 손님(소요시간: 38분)\n",
      "[ ]36번째 손님(소요시간: 39분)\n",
      "[ ]37번째 손님(소요시간: 36분)\n",
      "[ ]38번째 손님(소요시간: 22분)\n",
      "[0]39번째 손님(소요시간: 8분)\n",
      "총 탑승 승객:7\n",
      "[ ]40번째 손님(소요시간: 23분)\n",
      "[ ]41번째 손님(소요시간: 18분)\n",
      "[ ]42번째 손님(소요시간: 46분)\n",
      "[ ]43번째 손님(소요시간: 50분)\n",
      "[ ]44번째 손님(소요시간: 39분)\n",
      "[ ]45번째 손님(소요시간: 17분)\n",
      "[ ]46번째 손님(소요시간: 28분)\n",
      "[0]47번째 손님(소요시간: 12분)\n",
      "총 탑승 승객:8\n",
      "[ ]48번째 손님(소요시간: 28분)\n",
      "[ ]49번째 손님(소요시간: 44분)\n",
      "[ ]50번째 손님(소요시간: 33분)\n"
     ]
    }
   ],
   "source": [
    "count = 0 \n",
    "for i in range(1, 51):\n",
    "    number = int(random()*46)+5\n",
    "    if number <= 15:\n",
    "        count += 1\n",
    "        print(\"[0]{0}번째 손님(소요시간: {1}분)\".format(i, number))\n",
    "    else:\n",
    "        print(\"[ ]{0}번째 손님(소요시간: {1}분)\".format(i, number))\n",
    "        continue\n",
    "    print(\"총 탑승 승객:{0}\".format(count))"
   ]
  },
  {
   "cell_type": "code",
   "execution_count": 4,
   "id": "a9de2f3b",
   "metadata": {},
   "outputs": [],
   "source": [
    "def open_account():\n",
    "    print(\"새로운 계좌가 생성되었습니다\")"
   ]
  },
  {
   "cell_type": "code",
   "execution_count": 5,
   "id": "d08bad29",
   "metadata": {},
   "outputs": [
    {
     "name": "stdout",
     "output_type": "stream",
     "text": [
      "새로운 계좌가 생성되었습니다\n"
     ]
    }
   ],
   "source": [
    "open_account()"
   ]
  },
  {
   "cell_type": "code",
   "execution_count": 7,
   "id": "301d3398",
   "metadata": {},
   "outputs": [
    {
     "name": "stdout",
     "output_type": "stream",
     "text": [
      "입금이 완료되었습니다. 잔액은 1000원 입니다\n",
      "1000\n"
     ]
    }
   ],
   "source": [
    "def deposit(balance, money): # 입금\n",
    "    print(\"입금이 완료되었습니다. 잔액은 {0}원 입니다\".format(balance + money))\n",
    "    return balance + money\n",
    "\n",
    "balance = 0 \n",
    "balance = deposit(balance, 1000)\n",
    "print(balance)"
   ]
  },
  {
   "cell_type": "code",
   "execution_count": 12,
   "id": "b3f191c2",
   "metadata": {},
   "outputs": [
    {
     "name": "stdout",
     "output_type": "stream",
     "text": [
      "입금할 금액을 입력해주세요0\n",
      "입금이 완료되었습니다. 잔액은 0원 입니다\n",
      "출금할 금액을 입력해주세요500\n",
      "출금이 완료되지 않았습니다. 잔액은 0원 입니다\n",
      "출금할 금액을 입력해주세요0\n",
      "출금이 완료되었습니다. 잔액은 0원 입니다\n",
      "0\n"
     ]
    }
   ],
   "source": [
    "def withdraw(balance, money):\n",
    "    if balance >= money:\n",
    "        print(\"출금이 완료되었습니다. 잔액은 {0}원 입니다\".format(balance-money))\n",
    "        return balance - money\n",
    "    else:\n",
    "        print(\"출금이 완료되지 않았습니다. 잔액은 {0}원 입니다\".format(balance))\n",
    "        return balance\n",
    "\n",
    "balance = 0 \n",
    "money = int(input(\"입금할 금액을 입력해주세요\"))\n",
    "balance = deposit(balance, money)\n",
    "\n",
    "wd_money = int(input(\"출금할 금액을 입력해주세요\"))\n",
    "balance = withdraw(balance, wd_money)\n",
    "\n",
    "wd_money = int(input(\"출금할 금액을 입력해주세요\"))\n",
    "balance = withdraw(balance, wd_money)\n",
    "print(balance)"
   ]
  },
  {
   "cell_type": "code",
   "execution_count": 15,
   "id": "659df954",
   "metadata": {},
   "outputs": [
    {
     "name": "stdout",
     "output_type": "stream",
     "text": [
      "입금이 완료되었습니다. 잔액은 1000원 입니다\n",
      "수수료 100원이며, 잔액은 400원 입니다\n"
     ]
    }
   ],
   "source": [
    "def withdraw_night(balance, money):\n",
    "    comission = 100\n",
    "    return comission, balance - money - comission\n",
    "\n",
    "balance = 0\n",
    "balance = deposit(balance, 1000)\n",
    "\n",
    "comission, balance = withdraw_night(balance, 500)\n",
    "print(\"수수료 {0}원이며, 잔액은 {1}원 입니다\".format(comission, balance))"
   ]
  },
  {
   "cell_type": "code",
   "execution_count": 19,
   "id": "c1efd551",
   "metadata": {},
   "outputs": [
    {
     "name": "stdout",
     "output_type": "stream",
     "text": [
      "이름 : 유재석\t나이 : 20\t주 사용 언어 : 파이썬\n",
      "이름 : 김태호\t나이 : 25\t주 사용 언어 : 자바\n"
     ]
    }
   ],
   "source": [
    "def profile(name, age, main_lang):\n",
    "    print(\"이름 : {0}\\t나이 : {1}\\t주 사용 언어 : {2}\".format(name, age, main_lang))\n",
    "    \n",
    "profile(\"유재석\", 20, '파이썬')    \n",
    "profile(\"김태호\", 25, '자바')"
   ]
  },
  {
   "cell_type": "code",
   "execution_count": 21,
   "id": "9b9702db",
   "metadata": {},
   "outputs": [
    {
     "name": "stdout",
     "output_type": "stream",
     "text": [
      "이름 : 유재석\t나이 : 17\t주 사용 언어 : 파이썬\n",
      "이름 : 김태호\t나이 : 17\t주 사용 언어 : 파이썬\n"
     ]
    }
   ],
   "source": [
    "def profile(name, age=17, main_lang=\"파이썬\"):\n",
    "    print(\"이름 : {0}\\t나이 : {1}\\t주 사용 언어 : {2}\".format(name, age, main_lang))\n",
    "    \n",
    "profile(\"유재석\")\n",
    "profile(\"김태호\")"
   ]
  },
  {
   "cell_type": "code",
   "execution_count": 22,
   "id": "58b51b65",
   "metadata": {},
   "outputs": [
    {
     "name": "stdout",
     "output_type": "stream",
     "text": [
      "이름 : 유재석\t나이 : 20\t주 사용 언어 : 파이썬\n"
     ]
    }
   ],
   "source": [
    "profile(\"유재석\", 20)"
   ]
  },
  {
   "cell_type": "code",
   "execution_count": 23,
   "id": "a04027bc",
   "metadata": {},
   "outputs": [
    {
     "name": "stdout",
     "output_type": "stream",
     "text": [
      "이름 : 김태호\t나이 : 35\t주 사용 언어 : 파이썬\n"
     ]
    }
   ],
   "source": [
    "profile(name='김태호', main_lang=\"파이썬\", age=35)"
   ]
  },
  {
   "cell_type": "code",
   "execution_count": 25,
   "id": "f0b2d615",
   "metadata": {},
   "outputs": [],
   "source": [
    "def profile(name, age, lang1, lang2, lang3, lang4, lang5):\n",
    "    print(\"이름 : {0}\\t나이 : {1}\\t\".format(name, age), end= \" \")\n",
    "    print(lang1, lang2, lang3, lang4, lang5)"
   ]
  },
  {
   "cell_type": "code",
   "execution_count": 27,
   "id": "4f574730",
   "metadata": {},
   "outputs": [
    {
     "name": "stdout",
     "output_type": "stream",
     "text": [
      "이름 : 유재석\t나이 : 20\t Python Java C C++ C#\n",
      "이름 : 김태호\t나이 : 25\t kotlin Swift   \n"
     ]
    }
   ],
   "source": [
    "profile(\"유재석\", 20, \"Python\", \"Java\", \"C\", \"C++\", \"C#\")\n",
    "profile(\"김태호\", 25, \"kotlin\", \"Swift\", \"\", \"\", \"\")"
   ]
  },
  {
   "cell_type": "code",
   "execution_count": 30,
   "id": "10350c2e",
   "metadata": {},
   "outputs": [],
   "source": [
    "def profile(name, age, *language):\n",
    "    print(\"이름 : {0}\\t나이 : {1}\\t\".format(name, age), end= \" \")\n",
    "    \n",
    "    for lang in language:\n",
    "        print(lang, end=\" \")\n",
    "    print()"
   ]
  },
  {
   "cell_type": "code",
   "execution_count": 31,
   "id": "5c1d5f9b",
   "metadata": {},
   "outputs": [
    {
     "name": "stdout",
     "output_type": "stream",
     "text": [
      "이름 : 유재석\t나이 : 20\t Python Java C C++ C# Javascript \n"
     ]
    }
   ],
   "source": [
    "profile(\"유재석\", 20, \"Python\", \"Java\", \"C\", \"C++\", \"C#\", \"Javascript\")"
   ]
  },
  {
   "cell_type": "code",
   "execution_count": 36,
   "id": "1e270f24",
   "metadata": {},
   "outputs": [
    {
     "name": "stdout",
     "output_type": "stream",
     "text": [
      "전체 총: 10\n",
      "[함수 내] 남은 총:8\n",
      "남은 총:8\n"
     ]
    }
   ],
   "source": [
    "gun = 10\n",
    "\n",
    "def checkpoint(gun, soldiers):\n",
    "    gun = gun - soldiers\n",
    "    print(\"[함수 내] 남은 총:{0}\".format(gun))\n",
    "    return gun\n",
    "    \n",
    "print(\"전체 총: {0}\".format(gun))\n",
    "gun = checkpoint(gun, 2)\n",
    "print(\"남은 총:{0}\".format(gun))"
   ]
  },
  {
   "cell_type": "code",
   "execution_count": 48,
   "id": "11319292",
   "metadata": {},
   "outputs": [
    {
     "name": "stdout",
     "output_type": "stream",
     "text": [
      "성별을 입력하세요. 남성/여성여성\n",
      "키 175cm 여자의 표준 체중은 64.31 입니다\n"
     ]
    }
   ],
   "source": [
    "gender = str(input(\"성별을 입력하세요. 남성/여성\"))\n",
    "\n",
    "def std_weight(height, gender):\n",
    "    if gender == \"남성\":\n",
    "        weight = round((height*height*22)/10000, 2)\n",
    "        print(\"키 {0}cm 남자의 표준 체중은 {1}kg 입니다\".format(str(height), str(weight)))\n",
    "    else:\n",
    "        weight = round((height*height*21)/10000, 2)\n",
    "        print(\"키 {0}cm 여자의 표준 체중은 {1} 입니다\".format(str(height), str(weight)))\n",
    "\n",
    "std_weight(175, gender)"
   ]
  },
  {
   "cell_type": "code",
   "execution_count": 7,
   "id": "7ac7eb22",
   "metadata": {},
   "outputs": [
    {
     "name": "stdout",
     "output_type": "stream",
     "text": [
      "Python vs Java vs JavaScript?"
     ]
    }
   ],
   "source": [
    "print(\"Python\", \"Java\", \"JavaScript\", sep=\" vs \", end=\"?\")"
   ]
  },
  {
   "cell_type": "code",
   "execution_count": 2,
   "id": "82818793",
   "metadata": {},
   "outputs": [
    {
     "name": "stdout",
     "output_type": "stream",
     "text": [
      "PythonJava\n"
     ]
    }
   ],
   "source": [
    "print(\"Python\" + \"Java\")"
   ]
  },
  {
   "cell_type": "code",
   "execution_count": 8,
   "id": "e56b3a3b",
   "metadata": {},
   "outputs": [],
   "source": [
    "import sys"
   ]
  },
  {
   "cell_type": "code",
   "execution_count": 9,
   "id": "67f39ad9",
   "metadata": {},
   "outputs": [
    {
     "name": "stdout",
     "output_type": "stream",
     "text": [
      "Python Java\n"
     ]
    }
   ],
   "source": [
    "print(\"Python\", \"Java\", file=sys.stdout)"
   ]
  },
  {
   "cell_type": "code",
   "execution_count": 10,
   "id": "cecb74a4",
   "metadata": {},
   "outputs": [
    {
     "name": "stderr",
     "output_type": "stream",
     "text": [
      "Python Java\n"
     ]
    }
   ],
   "source": [
    "print(\"Python\", \"Java\", file=sys.stderr)"
   ]
  },
  {
   "cell_type": "code",
   "execution_count": 11,
   "id": "5a3486d9",
   "metadata": {},
   "outputs": [],
   "source": [
    "scores = {\"수학\" : 0, \"영어\" : 50, \"코딩\" : 100}"
   ]
  },
  {
   "cell_type": "code",
   "execution_count": 15,
   "id": "9957cbd4",
   "metadata": {},
   "outputs": [
    {
     "name": "stdout",
     "output_type": "stream",
     "text": [
      "수학      :   0\n",
      "영어      :  50\n",
      "코딩      : 100\n"
     ]
    }
   ],
   "source": [
    "for subject, score in scores.items():\n",
    "    print(subject.ljust(8), str(score).rjust(4), sep=\":\")"
   ]
  },
  {
   "cell_type": "code",
   "execution_count": 16,
   "id": "6d7d3df7",
   "metadata": {},
   "outputs": [
    {
     "name": "stdout",
     "output_type": "stream",
     "text": [
      "대기번호 : 1\n",
      "대기번호 : 2\n",
      "대기번호 : 3\n",
      "대기번호 : 4\n",
      "대기번호 : 5\n",
      "대기번호 : 6\n",
      "대기번호 : 7\n",
      "대기번호 : 8\n",
      "대기번호 : 9\n",
      "대기번호 : 10\n",
      "대기번호 : 11\n",
      "대기번호 : 12\n",
      "대기번호 : 13\n",
      "대기번호 : 14\n",
      "대기번호 : 15\n",
      "대기번호 : 16\n",
      "대기번호 : 17\n",
      "대기번호 : 18\n",
      "대기번호 : 19\n",
      "대기번호 : 20\n"
     ]
    }
   ],
   "source": [
    "for num in range(1, 21):\n",
    "    print(\"대기번호 : \" + str(num))"
   ]
  },
  {
   "cell_type": "code",
   "execution_count": 17,
   "id": "ed639206",
   "metadata": {},
   "outputs": [
    {
     "name": "stdout",
     "output_type": "stream",
     "text": [
      "대기번호 : 001\n",
      "대기번호 : 002\n",
      "대기번호 : 003\n",
      "대기번호 : 004\n",
      "대기번호 : 005\n",
      "대기번호 : 006\n",
      "대기번호 : 007\n",
      "대기번호 : 008\n",
      "대기번호 : 009\n",
      "대기번호 : 010\n",
      "대기번호 : 011\n",
      "대기번호 : 012\n",
      "대기번호 : 013\n",
      "대기번호 : 014\n",
      "대기번호 : 015\n",
      "대기번호 : 016\n",
      "대기번호 : 017\n",
      "대기번호 : 018\n",
      "대기번호 : 019\n",
      "대기번호 : 020\n"
     ]
    }
   ],
   "source": [
    "for num in range(1, 21):\n",
    "    print(\"대기번호 : \" + str(num).zfill(3))"
   ]
  },
  {
   "cell_type": "code",
   "execution_count": 20,
   "id": "e922083d",
   "metadata": {},
   "outputs": [
    {
     "name": "stdout",
     "output_type": "stream",
     "text": [
      "아무 값이나 입력하세요 : 10\n",
      "입력하신 값은 10 입니다\n"
     ]
    }
   ],
   "source": [
    "answer = input(\"아무 값이나 입력하세요 : \")\n",
    "print(\"입력하신 값은 \" + answer + \" 입니다\")"
   ]
  },
  {
   "cell_type": "code",
   "execution_count": 24,
   "id": "32a97549",
   "metadata": {},
   "outputs": [
    {
     "name": "stdout",
     "output_type": "stream",
     "text": [
      "      -500\n"
     ]
    }
   ],
   "source": [
    "print(\"{0: >+10}\".format(-500))"
   ]
  },
  {
   "cell_type": "code",
   "execution_count": 25,
   "id": "00c2c625",
   "metadata": {},
   "outputs": [
    {
     "name": "stdout",
     "output_type": "stream",
     "text": [
      "500_______\n"
     ]
    }
   ],
   "source": [
    "print(\"{0:_<10}\".format(500))"
   ]
  },
  {
   "cell_type": "code",
   "execution_count": 26,
   "id": "0f136861",
   "metadata": {},
   "outputs": [
    {
     "name": "stdout",
     "output_type": "stream",
     "text": [
      "10,000,000,000\n"
     ]
    }
   ],
   "source": [
    "print(\"{0:,}\".format(10000000000))"
   ]
  },
  {
   "cell_type": "code",
   "execution_count": 30,
   "id": "564e1aca",
   "metadata": {},
   "outputs": [],
   "source": [
    "score_file = open(\"score.txt\", 'w', encoding=\"utf8\")\n",
    "print(\"수학:0\", file=score_file)\n",
    "print(\"영어:50\", file=score_file)"
   ]
  },
  {
   "cell_type": "code",
   "execution_count": 31,
   "id": "d2325ff9",
   "metadata": {},
   "outputs": [],
   "source": [
    "score_file.close()"
   ]
  },
  {
   "cell_type": "code",
   "execution_count": 32,
   "id": "4cc6b9ce",
   "metadata": {},
   "outputs": [],
   "source": [
    "score_file = open(\"score.txt\", 'a', encoding='utf8')\n",
    "score_file.write(\"과학:80\")\n",
    "score_file.write(\"\\n코딩:100\")\n",
    "score_file.close()"
   ]
  },
  {
   "cell_type": "code",
   "execution_count": 34,
   "id": "aae4050d",
   "metadata": {},
   "outputs": [
    {
     "name": "stdout",
     "output_type": "stream",
     "text": [
      "수학:0\n",
      "영어:50\n",
      "과학:80\n",
      "코딩:100"
     ]
    }
   ],
   "source": [
    "score_file = open('score.txt', 'r', encoding='utf8')\n",
    "print(score_file.readline(), end = \"\")\n",
    "print(score_file.readline(), end = \"\")\n",
    "print(score_file.readline(), end = \"\")\n",
    "print(score_file.readline(), end = \"\")\n",
    "score_file.close()"
   ]
  },
  {
   "cell_type": "code",
   "execution_count": 35,
   "id": "7405d9f6",
   "metadata": {},
   "outputs": [
    {
     "name": "stdout",
     "output_type": "stream",
     "text": [
      "수학:0\n",
      "영어:50\n",
      "과학:80\n",
      "코딩:100"
     ]
    }
   ],
   "source": [
    "score_file = open(\"score.txt\", 'r', encoding=\"utf8\")\n",
    "\n",
    "while True:\n",
    "    line = score_file.readline()\n",
    "    if not line: # 더 이상 읽어올 내용이 없으면\n",
    "        break\n",
    "    print(line, end=\"\")\n",
    "    \n",
    "score_file.close()"
   ]
  },
  {
   "cell_type": "code",
   "execution_count": 39,
   "id": "aed5fa8a",
   "metadata": {},
   "outputs": [
    {
     "name": "stdout",
     "output_type": "stream",
     "text": [
      "수학:0\n",
      "영어:50\n",
      "과학:80\n",
      "코딩:100"
     ]
    }
   ],
   "source": [
    "score_file = open(\"score.txt\", 'r', encoding='utf8')\n",
    "lines = score_file.readlines()\n",
    "for line in lines:\n",
    "    print(line, end = \"\")\n",
    "    \n",
    "score_file.close()"
   ]
  },
  {
   "cell_type": "code",
   "execution_count": 41,
   "id": "c357f8d8",
   "metadata": {},
   "outputs": [
    {
     "name": "stdout",
     "output_type": "stream",
     "text": [
      "{'이름': '박명수', '나이': 30, '취미': ['축구', '골프', '코딩']}\n"
     ]
    }
   ],
   "source": [
    "import pickle\n",
    "\n",
    "profile_file = open(\"profile.pickle\", 'wb')\n",
    "profile = {\"이름\" : \"박명수\", \"나이\" : 30, \"취미\" : [\"축구\", \"골프\", \"코딩\"]}\n",
    "print(profile)\n",
    "\n",
    "pickle.dump(profile, profile_file)\n",
    "profile_file.close()"
   ]
  },
  {
   "cell_type": "code",
   "execution_count": 42,
   "id": "ecdd04d2",
   "metadata": {},
   "outputs": [
    {
     "name": "stdout",
     "output_type": "stream",
     "text": [
      "{'이름': '박명수', '나이': 30, '취미': ['축구', '골프', '코딩']}\n"
     ]
    }
   ],
   "source": [
    "profile_file = open(\"profile.pickle\", \"rb\")\n",
    "profile = pickle.load(profile_file)\n",
    "\n",
    "print(profile)\n",
    "profile_file.close()"
   ]
  },
  {
   "cell_type": "code",
   "execution_count": 43,
   "id": "5a8e233d",
   "metadata": {},
   "outputs": [
    {
     "name": "stdout",
     "output_type": "stream",
     "text": [
      "{'이름': '박명수', '나이': 30, '취미': ['축구', '골프', '코딩']}\n"
     ]
    }
   ],
   "source": [
    "import pickle\n",
    "\n",
    "with open(\"profile.pickle\", \"rb\") as profile_file:\n",
    "    print(pickle.load(profile_file))"
   ]
  },
  {
   "cell_type": "code",
   "execution_count": 44,
   "id": "5f8a810c",
   "metadata": {},
   "outputs": [],
   "source": [
    "with open(\"study.txt\", \"w\", encoding=\"utf8\") as study_file:\n",
    "    study_file.write(\"파이썬을 열심히 공부하고 있어요\")"
   ]
  },
  {
   "cell_type": "code",
   "execution_count": 45,
   "id": "441850cb",
   "metadata": {},
   "outputs": [
    {
     "name": "stdout",
     "output_type": "stream",
     "text": [
      "파이썬을 열심히 공부하고 있어요\n"
     ]
    }
   ],
   "source": [
    "with open(\"study.txt\", 'r', encoding=\"utf8\") as study_file:\n",
    "    print(study_file.read())"
   ]
  },
  {
   "cell_type": "code",
   "execution_count": 50,
   "id": "4a095ff5",
   "metadata": {},
   "outputs": [],
   "source": [
    "for i in range(1, 51):\n",
    "    Bogo = open(str(i) + \"주차.txt\", 'w', encoding=\"utf8\")\n",
    "    print(\"-{0}주차 주간보고-\".format(i), file=Bogo)\n",
    "    print(\"이름 : \", file=Bogo)\n",
    "    print(\"업무요약 : \", file=Bogo)\n",
    "    Bogo.close()"
   ]
  },
  {
   "cell_type": "code",
   "execution_count": 52,
   "id": "faad7bb9",
   "metadata": {},
   "outputs": [],
   "source": [
    "for i in range(1, 51):\n",
    "    with open(str(i) + \"주차.txt\", 'w', encoding=\"utf8\") as bogo:\n",
    "        bogo.write(\"-{0}주차 주간보고-\".format(i))\n",
    "        bogo.write(\"\\n부서 : \")\n",
    "        bogo.write(\"\\n이름 : \")\n",
    "        bogo.write(\"\\n업무 요약 : \")"
   ]
  },
  {
   "cell_type": "code",
   "execution_count": 56,
   "id": "d75d389e",
   "metadata": {},
   "outputs": [
    {
     "name": "stdout",
     "output_type": "stream",
     "text": [
      "마린 유닛이 생성되었습니다\n",
      "체력 40, 공격력 5\n",
      "\n"
     ]
    }
   ],
   "source": [
    "name = \"마린\"\n",
    "hp = 40\n",
    "damage = 5\n",
    "\n",
    "print(\"{} 유닛이 생성되었습니다\".format(name))\n",
    "print(\"체력 {0}, 공격력 {1}\\n\".format(hp, damage))"
   ]
  },
  {
   "cell_type": "code",
   "execution_count": 58,
   "id": "329dc13f",
   "metadata": {},
   "outputs": [
    {
     "name": "stdout",
     "output_type": "stream",
     "text": [
      "탱크 유닛이 생성되었습니다\n",
      "체력 150, 공격력 35\n",
      "\n"
     ]
    }
   ],
   "source": [
    "tank_name = \"탱크\"\n",
    "tank_hp = 150\n",
    "tank_damage = 35\n",
    "\n",
    "print(\"{} 유닛이 생성되었습니다\".format(tank_name))\n",
    "print(\"체력 {0}, 공격력 {1}\\n\".format(tank_hp, tank_damage))"
   ]
  },
  {
   "cell_type": "code",
   "execution_count": 59,
   "id": "efc61819",
   "metadata": {},
   "outputs": [],
   "source": [
    "def attack(name, location, damage):\n",
    "    print(\"{0} : {1} 방향으로 적군을 공격합니다, [공격력 {2}]\".format(name, location, damage))"
   ]
  },
  {
   "cell_type": "code",
   "execution_count": 60,
   "id": "437aeeaf",
   "metadata": {},
   "outputs": [
    {
     "name": "stdout",
     "output_type": "stream",
     "text": [
      "마린 : 1시 방향으로 적군을 공격합니다, [공격력 5]\n"
     ]
    }
   ],
   "source": [
    "attack(name, \"1시\", damage)"
   ]
  },
  {
   "cell_type": "code",
   "execution_count": 61,
   "id": "383bf187",
   "metadata": {},
   "outputs": [
    {
     "name": "stdout",
     "output_type": "stream",
     "text": [
      "탱크 : 1시 방향으로 적군을 공격합니다, [공격력 35]\n"
     ]
    }
   ],
   "source": [
    "attack(tank_name, \"1시\", tank_damage)"
   ]
  },
  {
   "cell_type": "code",
   "execution_count": 63,
   "id": "aa67e386",
   "metadata": {},
   "outputs": [
    {
     "name": "stdout",
     "output_type": "stream",
     "text": [
      "탱크 유닛이 생성되었습니다.\n",
      "체력 150, 공격력 35\n",
      "\n",
      "탱크 : 1시 방향으로 적군을 공격합니다, [공격력 35]\n"
     ]
    }
   ],
   "source": [
    "tank2_name = \"탱크\"\n",
    "tank2_hp = 150\n",
    "tank2_damage = 35\n",
    "\n",
    "print(\"{} 유닛이 생성되었습니다.\".format(tank2_name))\n",
    "print(\"체력 {0}, 공격력 {1}\\n\".format(tank2_hp, tank2_damage))\n",
    "attack(tank2_name, \"1시\", tank2_damage)"
   ]
  },
  {
   "cell_type": "code",
   "execution_count": 64,
   "id": "b26d271e",
   "metadata": {},
   "outputs": [],
   "source": [
    "class Unit:\n",
    "    def __init__(self, name, hp, damage):\n",
    "        self.name = name\n",
    "        self.hp = hp\n",
    "        self.damage = damage\n",
    "        print(\"{0} 유닛이 생성되었습니다\".format(self.name))\n",
    "        print(\"체력 {0}, 공격력 {1}\".format(self.hp, self.damage))\n",
    "        "
   ]
  },
  {
   "cell_type": "code",
   "execution_count": 67,
   "id": "d764b211",
   "metadata": {},
   "outputs": [
    {
     "name": "stdout",
     "output_type": "stream",
     "text": [
      "마린 유닛이 생성되었습니다\n",
      "체력 40, 공격력 5\n",
      "마린 유닛이 생성되었습니다\n",
      "체력 40, 공격력 5\n",
      "탱크 유닛이 생성되었습니다\n",
      "체력 150, 공격력 35\n"
     ]
    }
   ],
   "source": [
    "marine1 = Unit(\"마린\", 40, 5)\n",
    "marine2 = Unit(\"마린\", 40, 5)\n",
    "tank = Unit(\"탱크\", 150, 35)"
   ]
  },
  {
   "cell_type": "code",
   "execution_count": 69,
   "id": "b6edd38f",
   "metadata": {},
   "outputs": [
    {
     "name": "stdout",
     "output_type": "stream",
     "text": [
      "레이스 유닛이 생성되었습니다\n",
      "체력 80, 공격력 5\n",
      "유닛 이름: 레이스, 공격력 : 5\n"
     ]
    }
   ],
   "source": [
    "wraith1 = Unit(\"레이스\", 80, 5)\n",
    "print(\"유닛 이름: {0}, 공격력 : {1}\".format(wraith1.name, wraith1.damage))"
   ]
  },
  {
   "cell_type": "code",
   "execution_count": 71,
   "id": "7d4624ac",
   "metadata": {},
   "outputs": [
    {
     "name": "stdout",
     "output_type": "stream",
     "text": [
      "빼앗은 레이스 유닛이 생성되었습니다\n",
      "체력 80, 공격력 5\n"
     ]
    }
   ],
   "source": [
    "wraith2 = Unit(\"빼앗은 레이스\", 80, 5)\n",
    "wraith2.cloaking = True"
   ]
  },
  {
   "cell_type": "code",
   "execution_count": 74,
   "id": "fa58cc09",
   "metadata": {},
   "outputs": [
    {
     "name": "stdout",
     "output_type": "stream",
     "text": [
      "빼앗은 레이스는 현재 클로킹 상태입니다\n"
     ]
    }
   ],
   "source": [
    "if wraith2.cloaking == True:\n",
    "    print(\"{0}는 현재 클로킹 상태입니다\".format(wraith2.name))"
   ]
  },
  {
   "cell_type": "code",
   "execution_count": 103,
   "id": "f1398662",
   "metadata": {},
   "outputs": [],
   "source": [
    "class AttackUnit:\n",
    "    def __init__(self, name, hp, damage):\n",
    "        self.name = name\n",
    "        self.hp = hp\n",
    "        self.damage = damage\n",
    "        \n",
    "    def attack(self, location):\n",
    "        print(\"{0} : {1} 방향으로 적군을 공격 합니다. [공격력 {2}]\" \\\n",
    "             .format(self.name, location, self.damage))\n",
    "        \n",
    "    def damaged(self, damage):\n",
    "        print(\"{0} : {1} 데미지를 입었습니다\".format(self.name, damage))\n",
    "        self.hp -= damage\n",
    "        print(\"{0} : 현재 체력은 {1} 입니다\".format(self.name, str(self.hp)))\n",
    "        if self.hp <= 0:\n",
    "            print(\"{0} : 파괴되었습니다\".format(self.name))"
   ]
  },
  {
   "cell_type": "code",
   "execution_count": 104,
   "id": "8c89ee2a",
   "metadata": {},
   "outputs": [
    {
     "name": "stdout",
     "output_type": "stream",
     "text": [
      "파이어뱃 : 5시 방향으로 적군을 공격 합니다. [공격력 16]\n"
     ]
    }
   ],
   "source": [
    "firebat1 = AttackUnit(\"파이어뱃\", 50, 16)\n",
    "firebat1.attack(\"5시\")"
   ]
  },
  {
   "cell_type": "code",
   "execution_count": 105,
   "id": "f375ab3d",
   "metadata": {},
   "outputs": [
    {
     "name": "stdout",
     "output_type": "stream",
     "text": [
      "파이어뱃 : 25 데미지를 입었습니다\n",
      "파이어뱃 : 현재 체력은 25 입니다\n",
      "파이어뱃 : 25 데미지를 입었습니다\n",
      "파이어뱃 : 현재 체력은 0 입니다\n",
      "파이어뱃 : 파괴되었습니다\n"
     ]
    }
   ],
   "source": [
    "firebat1.damaged(25)\n",
    "firebat1.damaged(25)"
   ]
  },
  {
   "cell_type": "code",
   "execution_count": 107,
   "id": "945958ea",
   "metadata": {},
   "outputs": [],
   "source": [
    "from random import *\n",
    "\n",
    "# 일반 유닛\n",
    "class Unit:\n",
    "    def __init__(self, name, hp, speed):\n",
    "        self.name = name\n",
    "        self.hp = hp\n",
    "        self.speed = speed\n",
    "        print(\"{0} 유닛이 생성되었습니다.\".format(name))\n",
    "\n",
    "    def move(self, location):\n",
    "        print(\"{0} : {1} 방향으로 이동합니다. [속도 {2}]\"\\\n",
    "            .format(self.name, location, self.speed))\n",
    "\n",
    "    def damaged(self, damage):\n",
    "        print(\"{0} : {1} 데미지를 입었습니다.\".format(self.name, damage))\n",
    "        self.hp -= damage\n",
    "        print(\"{0} : 현재 체력은 {1} 입니다.\".format(self.name, self.hp))\n",
    "        if self.hp <= 0:\n",
    "            print(\"{0} : 파괴되었습니다.\".format(self.name))\n",
    "\n",
    "# 공격 유닛\n",
    "class AttackUnit(Unit):\n",
    "    def __init__(self, name, hp, speed, damage):\n",
    "        Unit.__init__(self, name, hp, speed)\n",
    "        self.damage = damage\n",
    "\n",
    "    def attack(self, location):\n",
    "        print(\"{0} : {1} 방향으로 적군을 공격 합니다. [공격력 {2}]\" \\\n",
    "            .format(self.name, location, self.damage))\n",
    "\n",
    "# 마린\n",
    "class Marine(AttackUnit):\n",
    "    def __init__(self):\n",
    "        AttackUnit.__init__(self, \"마린\", 40, 1, 5) # 이름, 체력, 이동속도, 공격력\n",
    "\n",
    "    # 스팀팩 : 일정 시간 동안 이동 및 공격 속도를 증가, 체력 10 감소\n",
    "    def stimpack(self):\n",
    "        if self.hp > 10:\n",
    "            self.hp -= 10\n",
    "            print(\"{0} : 스팀팩을 사용합니다. (HP 10 감소)\".format(self.name))\n",
    "        else:\n",
    "            print(\"{0} : 체력이 부족하여 스팀팩을 사용하지 않습니다\".format(self.name))\n",
    "\n",
    "# 탱크\n",
    "class Tank(AttackUnit):\n",
    "    # 시즈모드 : 탱크를 지상에 고정시켜, 더 높은 파워로 공격 가능. 이동 불가.\n",
    "    siege_developed = False # 시즈모드 개발여부 (클래스 변수)\n",
    "\n",
    "    def __init__(self):\n",
    "        AttackUnit.__init__(self, \"탱크\", 150, 1, 35) # 이름, 체력, 이동속도, 공격력\n",
    "        self.siege_mode = False # 시즈모드 (해제 상태)\n",
    "    \n",
    "    # 시즈모드\n",
    "    def set_siege_mode(self):\n",
    "        if Tank.siege_developed == False: # 시즈모드가 개발되지 않은 경우 메소드 탈출\n",
    "            return\n",
    "\n",
    "        # 현재 시즈모드가 아닐 때\n",
    "        if self.siege_mode == False:\n",
    "            print(\"{0} : 시즈모드로 전환합니다.\".format(self.name))\n",
    "            self.damage *= 2 # 공격력 2배로 증가\n",
    "            self.siege_mode = True # 시즈 모드 설정\n",
    "        # 현재 시즈모드일 때\n",
    "        else:\n",
    "            print(\"{0} : 시즈모드를 해제합니다.\".format(self.name))\n",
    "            self.damage /= 2 # 공격력 절반으로 감소\n",
    "            self.siege_mode = False # 시즈 모드 해제\n",
    "\n",
    "# 날 수 있는 기능을 가진 클래스\n",
    "class Flyable:\n",
    "    def __init__(self, flying_speed):\n",
    "        self.flying_speed = flying_speed\n",
    "\n",
    "    def fly(self, name, location):\n",
    "        print(\"{0} : {1} 방향으로 날아갑니다. [속도 {2}]\"\\\n",
    "            .format(name, location, self.flying_speed))\n",
    "\n",
    "# 공중 공격 유닛\n",
    "class FlyableAttackUnit(AttackUnit, Flyable):\n",
    "    def __init__(self, name, hp, damage, flying_speed):\n",
    "        AttackUnit.__init__(self, name, hp, 0, damage)\n",
    "        Flyable.__init__(self, flying_speed)\n",
    "\n",
    "    def move(self, location):\n",
    "        self.fly(self.name, location)\n",
    "\n",
    "# 레이스\n",
    "class Wraith(FlyableAttackUnit):\n",
    "    def __init__(self):\n",
    "        FlyableAttackUnit.__init__(self, \"레이스\", 80, 20, 5) # 체력, 공격력, 공중 이동 속도\n",
    "        self.cloaked = False # 클로킹 모드 (해제 상태)\n",
    "\n",
    "    # 클로킹 모드\n",
    "    def cloaking(self):\n",
    "        # 현재 클로킹 모드일 때\n",
    "        if self.cloaked == True:\n",
    "            print(\"{0} : 클로킹 모드 해제합니다.\".format(self.name))\n",
    "            self.cloaked = False\n",
    "        # 현재 클로킹 모드가 아닐 때\n",
    "        else:\n",
    "            print(\"{0} : 클로킹 모드 설정합니다.\".format(self.name))\n",
    "            self.cloaked = True\n",
    "\n",
    "# 게임 시작\n",
    "def game_start():\n",
    "    print(\"[알림] 새로운 게임을 시작합니다.\")\n",
    "\n",
    "# 게임 종료\n",
    "def game_over():\n",
    "    print(\"Player : gg\") # good game\n",
    "    print(\"[Player] 님이 게임에서 퇴장하셨습니다.\")\n",
    "\n",
    "# 실제 게임 진행\n",
    "game_start()\n",
    "\n",
    "# 마린 3기 생성\n",
    "m1 = Marine()\n",
    "m2 = Marine()\n",
    "m3 = Marine()\n",
    "\n",
    "# 탱크 2기 생성\n",
    "t1 = Tank()\n",
    "t2 = Tank()\n",
    "\n",
    "# 레이스 1기 생성\n",
    "w1 = Wraith()\n",
    "\n",
    "# 유닛 일괄 관리 (생성된 모든 유닛 append)\n",
    "attack_units = []\n",
    "attack_units.append(m1)\n",
    "attack_units.append(m2)\n",
    "attack_units.append(m3)\n",
    "attack_units.append(t1)\n",
    "attack_units.append(t1)\n",
    "attack_units.append(w1)\n",
    "\n",
    "# 전군 이동\n",
    "for unit in attack_units:\n",
    "    unit.move(\"1시\")\n",
    "\n",
    "# 탱크 시즈모드 개발\n",
    "Tank.siege_developed = True\n",
    "print(\"[알림] 탱크 시즈 모드 개발이 완료되었습니다.\")\n",
    "\n",
    "# 공격 모드 준비 (마린 : 스팀팩, 탱크 : 시즈모드, 레이스 : 클로킹)\n",
    "for unit in attack_units:\n",
    "    if isinstance(unit, Marine): # Marine 의 인스턴스이면 스팀팩\n",
    "        unit.stimpack()\n",
    "    elif isinstance(unit, Tank): # Tank 의 인스턴스이면 시즈모드\n",
    "        unit.set_siege_mode()\n",
    "    elif isinstance(unit, Wraith): # Wraith 의 인스턴스이면 클로킹\n",
    "        unit.cloaking()\n",
    "\n",
    "# 전군 공격\n",
    "for unit in attack_units:\n",
    "    unit.attack(\"1시\")\n",
    "\n",
    "# 전군 피해\n",
    "for unit in attack_units:\n",
    "    unit.damaged(randint(5, 20)) # 공격은 랜덤으로 받음 (5 ~ 20)\n",
    "\n",
    "# 게임 종료\n",
    "game_over()"
   ]
  },
  {
   "cell_type": "code",
   "execution_count": null,
   "id": "548c8dd8",
   "metadata": {},
   "outputs": [],
   "source": []
  }
 ],
 "metadata": {
  "kernelspec": {
   "display_name": "Python 3 (ipykernel)",
   "language": "python",
   "name": "python3"
  },
  "language_info": {
   "codemirror_mode": {
    "name": "ipython",
    "version": 3
   },
   "file_extension": ".py",
   "mimetype": "text/x-python",
   "name": "python",
   "nbconvert_exporter": "python",
   "pygments_lexer": "ipython3",
   "version": "3.9.12"
  },
  "toc": {
   "base_numbering": 1,
   "nav_menu": {},
   "number_sections": true,
   "sideBar": true,
   "skip_h1_title": false,
   "title_cell": "Table of Contents",
   "title_sidebar": "Contents",
   "toc_cell": false,
   "toc_position": {},
   "toc_section_display": true,
   "toc_window_display": false
  }
 },
 "nbformat": 4,
 "nbformat_minor": 5
}
